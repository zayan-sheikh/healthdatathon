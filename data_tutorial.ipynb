{
 "cells": [
  {
   "cell_type": "markdown",
   "id": "103d9548",
   "metadata": {},
   "source": [
    "Begin by copying this file into the main directory of your workspace."
   ]
  },
  {
   "cell_type": "code",
   "execution_count": null,
   "id": "b58fdbcc",
   "metadata": {
    "tags": [
     "remove-cell"
    ]
   },
   "outputs": [],
   "source": [
    "import sys\n",
    "!{sys.executable} -m pip install plotly\n",
    "import pandas as pd\n",
    "import numpy as np\n",
    "import plotly.express as px"
   ]
  },
  {
   "cell_type": "code",
   "execution_count": null,
   "id": "ed8cc903",
   "metadata": {
    "tags": [
     "remove-cell"
    ]
   },
   "outputs": [],
   "source": [
    "test_demo_dat = pd.read_csv(\n",
    "    'gcs/pre-processed/test/test_demographics.csv')\n",
    "train_demo_dat = pd.read_csv(\n",
    "    'gcs/pre-processed/train/train_demographics.csv')\n",
    "valid_demo_dat = pd.read_csv(\n",
    "    'gcs/pre-processed/valid/valid_demographics.csv')\n",
    "\n",
    "test_encount_dat = pd.read_csv(\n",
    "    'gcs/pre-processed/test/test_encounters.csv')\n",
    "train_encount_dat = pd.read_csv(\n",
    "    'gcs/pre-processed/train/train_encounters.csv')\n",
    "valid_encount_dat = pd.read_csv(\n",
    "    'gcs/pre-processed/valid/valid_encounters.csv')\n"
   ]
  },
  {
   "cell_type": "markdown",
   "id": "56a9b936",
   "metadata": {},
   "source": [
    "We start by loading in the data. Once this is done, and we have the testing, training, and validation datasets for both demographic and encounter data, we can join these two datasets to get demographics on the patient level rather than the encounter level. "
   ]
  },
  {
   "cell_type": "code",
   "execution_count": null,
   "id": "44ed0738",
   "metadata": {
    "tags": [
     "remove-output"
    ]
   },
   "outputs": [],
   "source": [
    "## Get encounter data, dropping any duplicates\n",
    "encount_dat = test_encount_dat.append(\n",
    "    train_encount_dat).append(valid_encount_dat)\n",
    "num_enc = len(encount_dat[['ENCOUNTER_NUM']].drop_duplicates())\n",
    "demo_dat = test_demo_dat.append(train_demo_dat).append(valid_demo_dat)\n",
    "num_dem = len(encount_dat[['ENCOUNTER_NUM']].drop_duplicates())\n",
    "\n",
    "encount_dat_pt = encount_dat[['ENCOUNTER_NUM','PATIENT_DK']]\n",
    "num_enc = len(encount_dat_pt['ENCOUNTER_NUM'])\n",
    "patient_dat = test_demo_dat.append(\n",
    "    train_demo_dat).append(valid_demo_dat)\n",
    "\n",
    "# Join with patient data\n",
    "\n",
    "patient_dat = patient_dat.merge(\n",
    "    encount_dat_pt, on='ENCOUNTER_NUM',how='left')\n",
    "\n",
    "\n",
    "patient_sex = patient_dat[['PATIENT_DK','sex']]\n",
    "patient_sex_unique = patient_sex.drop_duplicates()"
   ]
  },
  {
   "cell_type": "markdown",
   "id": "9d605d21",
   "metadata": {},
   "source": [
    "Once the data is prepped, we can group on the sex field to get patient counts by sex."
   ]
  },
  {
   "cell_type": "code",
   "execution_count": null,
   "id": "8bda3473",
   "metadata": {},
   "outputs": [],
   "source": [
    "patient_sex = patient_dat[['PATIENT_DK','sex']]\n",
    "patient_sex_unique = patient_sex.drop_duplicates()\n",
    "sex = patient_sex_unique[['PATIENT_DK','sex']].groupby(\n",
    "    'sex',as_index=False).count()\n",
    "sex['sex'] = ['M','F']\n",
    "sex.columns = ['Sex','Count']\n",
    "\n",
    "sex"
   ]
  },
  {
   "cell_type": "markdown",
   "id": "e294b6a4",
   "metadata": {},
   "source": [
    "Finally, we use the plotly package to plot the results."
   ]
  },
  {
   "cell_type": "code",
   "execution_count": null,
   "id": "eea9c184",
   "metadata": {},
   "outputs": [],
   "source": [
    "fig_sex = px.bar(sex, x=\"Sex\", y=\"Count\", color = \"Sex\", \n",
    "                 labels={\"Sex\" : \"Sex\",\n",
    "                         \"Count\" : \"Number of Patients\"})\n",
    "fig_sex.update_layout(paper_bgcolor=\"#f9f9f9\")\n",
    "fig_sex.update_layout(showlegend=False)\n",
    "\n",
    "fig_sex"
   ]
  }
 ],
 "metadata": {
  "celltoolbar": "Tags",
  "kernelspec": {
   "display_name": "cenv",
   "language": "python",
   "name": "cenv"
  },
  "language_info": {
   "codemirror_mode": {
    "name": "ipython",
    "version": 3
   },
   "file_extension": ".py",
   "mimetype": "text/x-python",
   "name": "python",
   "nbconvert_exporter": "python",
   "pygments_lexer": "ipython3",
   "version": "3.7.13"
  }
 },
 "nbformat": 4,
 "nbformat_minor": 5
}
